{
 "cells": [
  {
   "cell_type": "markdown",
   "id": "543c212c",
   "metadata": {},
   "source": [
    "# Analytics of deepmd/EA runs\n",
    "\n",
    "Where we look at the results of runs.\n",
    "\n",
    "The first set of runs only evaluated the initial random population, so there was no real evolutionary algorithm (EA) component.  (And this is for the multi-objective EA runs where we're trying to minimize for force and energy.). Nonetheless, a relationship between force and energy emerge even from this initial, random population.\n",
    "\n",
    "Also note that normally LEAP flags invalid fitnesses as NaN.  An invalid fitness will occur if there was a problem evaluating the individual, such as it taking too long to evaluate, core dumping, or otherwise having deepmd throw an error during training.  However, the multi-objective EA we're using, NSGA-II, doesn't handle NaN fitnesses, so we arbitrarily set fitnesses for invalid individuals to MAXINT, instead.  (I.e., we're trying to minimize, so setting the fitnesses to the largest possible integer value emphasises that the fitnesses are bogus.)"
   ]
  },
  {
   "cell_type": "code",
   "execution_count": 1,
   "id": "b492f4cb",
   "metadata": {},
   "outputs": [],
   "source": [
    "from pathlib import Path\n",
    "\n",
    "import numpy as np\n",
    "import matplotlib\n",
    "import matplotlib.pyplot as plt\n",
    "import seaborn as sns\n",
    "import pandas as pd\n",
    "\n",
    "%matplotlib inline"
   ]
  },
  {
   "cell_type": "code",
   "execution_count": 4,
   "id": "190deab7",
   "metadata": {},
   "outputs": [
    {
     "name": "stdout",
     "output_type": "stream",
     "text": [
      "/Users/may/Data/Molten Salts/new_runs\n"
     ]
    }
   ],
   "source": [
    "cd '/Users/may/Data/Molten Salts/new_runs'"
   ]
  },
  {
   "cell_type": "code",
   "execution_count": 16,
   "id": "8bf3676c",
   "metadata": {},
   "outputs": [
    {
     "name": "stdout",
     "output_type": "stream",
     "text": [
      "2939387/2939387_individuals.csv  2939387/2939387_pop.csv\r\n"
     ]
    }
   ],
   "source": [
    "ls 2939387/*csv"
   ]
  },
  {
   "cell_type": "code",
   "execution_count": 14,
   "id": "fa36b3bc",
   "metadata": {},
   "outputs": [],
   "source": [
    "dfs = []"
   ]
  },
  {
   "cell_type": "code",
   "execution_count": 8,
   "id": "5fb4198c",
   "metadata": {},
   "outputs": [
    {
     "name": "stdout",
     "output_type": "stream",
     "text": [
      "Reading 2939387\n",
      "Reading 2945762\n",
      "Reading 2945763\n",
      "Reading 2945764\n",
      "Reading 2945765\n"
     ]
    }
   ],
   "source": [
    "for data_dir in ['2939387', '2945762', '2945763', '2945764', '2945765']:\n",
    "    print(f'Reading {data_dir}')\n",
    "    df = pd.read_csv(data_dir + '/' + data_dir + '_individuals.csv')\n",
    "    dfs.append(df.copy())"
   ]
  },
  {
   "cell_type": "code",
   "execution_count": 9,
   "id": "b385b1ee",
   "metadata": {},
   "outputs": [],
   "source": [
    "df = pd.concat(dfs, ignore_index=True)"
   ]
  },
  {
   "cell_type": "code",
   "execution_count": 10,
   "id": "e86f1550",
   "metadata": {},
   "outputs": [
    {
     "data": {
      "text/html": [
       "<div>\n",
       "<style scoped>\n",
       "    .dataframe tbody tr th:only-of-type {\n",
       "        vertical-align: middle;\n",
       "    }\n",
       "\n",
       "    .dataframe tbody tr th {\n",
       "        vertical-align: top;\n",
       "    }\n",
       "\n",
       "    .dataframe thead th {\n",
       "        text-align: right;\n",
       "    }\n",
       "</style>\n",
       "<table border=\"1\" class=\"dataframe\">\n",
       "  <thead>\n",
       "    <tr style=\"text-align: right;\">\n",
       "      <th></th>\n",
       "      <th>job</th>\n",
       "      <th>hostname</th>\n",
       "      <th>pid</th>\n",
       "      <th>uuid</th>\n",
       "      <th>birth_id</th>\n",
       "      <th>start_lr</th>\n",
       "      <th>stop_lr</th>\n",
       "      <th>rcut_smth</th>\n",
       "      <th>rcut</th>\n",
       "      <th>scale_by_worker</th>\n",
       "      <th>desc_activ_func</th>\n",
       "      <th>fitting_activ_func</th>\n",
       "      <th>start_eval_time</th>\n",
       "      <th>stop_eval_time</th>\n",
       "      <th>energy_fitness</th>\n",
       "      <th>force_fitness</th>\n",
       "    </tr>\n",
       "  </thead>\n",
       "  <tbody>\n",
       "    <tr>\n",
       "      <th>0</th>\n",
       "      <td>2939387</td>\n",
       "      <td>batch5</td>\n",
       "      <td>1127236</td>\n",
       "      <td>5fc11c90-85c4-4f75-837c-2060ce64f609</td>\n",
       "      <td>0</td>\n",
       "      <td>0.006680</td>\n",
       "      <td>0.000039</td>\n",
       "      <td>5.838706</td>\n",
       "      <td>9.441317</td>\n",
       "      <td>linear</td>\n",
       "      <td>softplus</td>\n",
       "      <td>sigmoid</td>\n",
       "      <td>1.684213e+09</td>\n",
       "      <td>1.684218e+09</td>\n",
       "      <td>0.00532</td>\n",
       "      <td>0.5410</td>\n",
       "    </tr>\n",
       "    <tr>\n",
       "      <th>1</th>\n",
       "      <td>2939387</td>\n",
       "      <td>batch5</td>\n",
       "      <td>1127048</td>\n",
       "      <td>1b37cc2f-f886-4e97-a888-20a30cd50ac0</td>\n",
       "      <td>1</td>\n",
       "      <td>0.005979</td>\n",
       "      <td>0.000047</td>\n",
       "      <td>4.767466</td>\n",
       "      <td>9.250085</td>\n",
       "      <td>none</td>\n",
       "      <td>relu6</td>\n",
       "      <td>tanh</td>\n",
       "      <td>1.684213e+09</td>\n",
       "      <td>1.684217e+09</td>\n",
       "      <td>0.00164</td>\n",
       "      <td>0.0679</td>\n",
       "    </tr>\n",
       "    <tr>\n",
       "      <th>2</th>\n",
       "      <td>2939387</td>\n",
       "      <td>batch5</td>\n",
       "      <td>1127231</td>\n",
       "      <td>114b332f-47d9-4281-bd12-89041e72b6e1</td>\n",
       "      <td>2</td>\n",
       "      <td>0.004281</td>\n",
       "      <td>0.000068</td>\n",
       "      <td>5.582719</td>\n",
       "      <td>7.734449</td>\n",
       "      <td>linear</td>\n",
       "      <td>relu</td>\n",
       "      <td>sigmoid</td>\n",
       "      <td>1.684213e+09</td>\n",
       "      <td>1.684217e+09</td>\n",
       "      <td>0.00184</td>\n",
       "      <td>0.0665</td>\n",
       "    </tr>\n",
       "    <tr>\n",
       "      <th>3</th>\n",
       "      <td>2939387</td>\n",
       "      <td>batch5</td>\n",
       "      <td>1127018</td>\n",
       "      <td>325ad912-626d-4852-9f14-56733a120aaa</td>\n",
       "      <td>3</td>\n",
       "      <td>0.005706</td>\n",
       "      <td>0.000006</td>\n",
       "      <td>3.106529</td>\n",
       "      <td>6.045722</td>\n",
       "      <td>sqrt</td>\n",
       "      <td>sigmoid</td>\n",
       "      <td>tanh</td>\n",
       "      <td>1.684213e+09</td>\n",
       "      <td>1.684218e+09</td>\n",
       "      <td>0.00166</td>\n",
       "      <td>0.0579</td>\n",
       "    </tr>\n",
       "    <tr>\n",
       "      <th>4</th>\n",
       "      <td>2939387</td>\n",
       "      <td>batch5</td>\n",
       "      <td>1127364</td>\n",
       "      <td>7601a769-6971-4db3-a8af-6e6c44c09dba</td>\n",
       "      <td>4</td>\n",
       "      <td>0.002151</td>\n",
       "      <td>0.000023</td>\n",
       "      <td>3.521780</td>\n",
       "      <td>10.336245</td>\n",
       "      <td>linear</td>\n",
       "      <td>relu6</td>\n",
       "      <td>softplus</td>\n",
       "      <td>1.684213e+09</td>\n",
       "      <td>1.684217e+09</td>\n",
       "      <td>0.00185</td>\n",
       "      <td>0.0814</td>\n",
       "    </tr>\n",
       "  </tbody>\n",
       "</table>\n",
       "</div>"
      ],
      "text/plain": [
       "       job hostname      pid                                  uuid  birth_id   \n",
       "0  2939387   batch5  1127236  5fc11c90-85c4-4f75-837c-2060ce64f609         0  \\\n",
       "1  2939387   batch5  1127048  1b37cc2f-f886-4e97-a888-20a30cd50ac0         1   \n",
       "2  2939387   batch5  1127231  114b332f-47d9-4281-bd12-89041e72b6e1         2   \n",
       "3  2939387   batch5  1127018  325ad912-626d-4852-9f14-56733a120aaa         3   \n",
       "4  2939387   batch5  1127364  7601a769-6971-4db3-a8af-6e6c44c09dba         4   \n",
       "\n",
       "   start_lr   stop_lr  rcut_smth       rcut scale_by_worker desc_activ_func   \n",
       "0  0.006680  0.000039   5.838706   9.441317          linear        softplus  \\\n",
       "1  0.005979  0.000047   4.767466   9.250085            none           relu6   \n",
       "2  0.004281  0.000068   5.582719   7.734449          linear            relu   \n",
       "3  0.005706  0.000006   3.106529   6.045722            sqrt         sigmoid   \n",
       "4  0.002151  0.000023   3.521780  10.336245          linear           relu6   \n",
       "\n",
       "  fitting_activ_func  start_eval_time  stop_eval_time  energy_fitness   \n",
       "0            sigmoid     1.684213e+09    1.684218e+09         0.00532  \\\n",
       "1               tanh     1.684213e+09    1.684217e+09         0.00164   \n",
       "2            sigmoid     1.684213e+09    1.684217e+09         0.00184   \n",
       "3               tanh     1.684213e+09    1.684218e+09         0.00166   \n",
       "4           softplus     1.684213e+09    1.684217e+09         0.00185   \n",
       "\n",
       "   force_fitness  \n",
       "0         0.5410  \n",
       "1         0.0679  \n",
       "2         0.0665  \n",
       "3         0.0579  \n",
       "4         0.0814  "
      ]
     },
     "execution_count": 10,
     "metadata": {},
     "output_type": "execute_result"
    }
   ],
   "source": [
    "df.head()"
   ]
  },
  {
   "cell_type": "code",
   "execution_count": 11,
   "id": "e32719a4",
   "metadata": {},
   "outputs": [],
   "source": [
    "df['eval_time'] = df.stop_eval_time - df.start_eval_time"
   ]
  },
  {
   "cell_type": "code",
   "execution_count": 13,
   "id": "ecfe0c13",
   "metadata": {},
   "outputs": [],
   "source": [
    "df.to_csv('2023_pdads_inds.csv', index=False)"
   ]
  },
  {
   "cell_type": "code",
   "execution_count": 17,
   "id": "715a53b4",
   "metadata": {},
   "outputs": [
    {
     "name": "stdout",
     "output_type": "stream",
     "text": [
      "Reading 2939387\n",
      "Reading 2945762\n",
      "Reading 2945763\n",
      "Reading 2945764\n",
      "Reading 2945765\n"
     ]
    }
   ],
   "source": [
    "dfs = []\n",
    "for data_dir in ['2939387', '2945762', '2945763', '2945764', '2945765']:\n",
    "    print(f'Reading {data_dir}')\n",
    "    df = pd.read_csv(data_dir + '/' + data_dir + '_pop.csv')\n",
    "    dfs.append(df.copy())"
   ]
  },
  {
   "cell_type": "code",
   "execution_count": 18,
   "id": "d1078224",
   "metadata": {},
   "outputs": [],
   "source": [
    "pop_df = pd.concat(dfs, ignore_index=True)"
   ]
  },
  {
   "cell_type": "code",
   "execution_count": 19,
   "id": "cd885074",
   "metadata": {},
   "outputs": [],
   "source": [
    "pop_df['eval_time'] = pop_df.stop_eval_time - pop_df.start_eval_time"
   ]
  },
  {
   "cell_type": "code",
   "execution_count": 20,
   "id": "ce99efd9",
   "metadata": {},
   "outputs": [],
   "source": [
    "pop_df.to_csv('2023_pdads_pop.csv', index=False)"
   ]
  },
  {
   "cell_type": "code",
   "execution_count": null,
   "id": "77f3f2e1",
   "metadata": {},
   "outputs": [],
   "source": []
  }
 ],
 "metadata": {
  "kernelspec": {
   "display_name": "Python 3 (ipykernel)",
   "language": "python",
   "name": "python3"
  },
  "language_info": {
   "codemirror_mode": {
    "name": "ipython",
    "version": 3
   },
   "file_extension": ".py",
   "mimetype": "text/x-python",
   "name": "python",
   "nbconvert_exporter": "python",
   "pygments_lexer": "ipython3",
   "version": "3.10.10"
  }
 },
 "nbformat": 4,
 "nbformat_minor": 5
}
